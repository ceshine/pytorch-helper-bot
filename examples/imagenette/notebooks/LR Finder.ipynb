{
 "cells": [
  {
   "cell_type": "code",
   "execution_count": 1,
   "metadata": {},
   "outputs": [
    {
     "name": "stderr",
     "output_type": "stream",
     "text": [
      "/home/ceshine/miniconda3/envs/deep/lib/python3.7/site-packages/tqdm/autonotebook/__init__.py:18: TqdmExperimentalWarning: Using `tqdm.autonotebook.tqdm` in notebook mode. Use `tqdm.tqdm` instead to force console mode (e.g. in jupyter console)\n",
      "  \" (e.g. in jupyter console)\", TqdmExperimentalWarning)\n"
     ]
    }
   ],
   "source": [
    "import torch\n",
    "import torch.nn as nn\n",
    "import pandas as pd\n",
    "from torch.utils.data import DataLoader\n",
    "import matplotlib.pyplot as plt\n",
    "\n",
    "from pytorch_helper_bot.lr_finder import LRFinder\n",
    "from main import (\n",
    "    get_seresnet_model, MixUpSoftmaxLoss, \n",
    "    WeightDecayOptimizerWrapper, NO_DECAY, N_CLASSES, DATA_ROOT,\n",
    "    build_dataframe_from_folder, TrainDataset, train_transform\n",
    ")"
   ]
  },
  {
   "cell_type": "code",
   "execution_count": 2,
   "metadata": {},
   "outputs": [],
   "source": [
    "def make_loader(batch_size, ds_class, df: pd.DataFrame, image_transform, drop_last=False, shuffle=False) -> DataLoader:\n",
    "    return DataLoader(\n",
    "        ds_class(df, image_transform),\n",
    "        shuffle=shuffle,\n",
    "        batch_size=batch_size,\n",
    "        num_workers=4,\n",
    "        drop_last=drop_last\n",
    "    )"
   ]
  },
  {
   "cell_type": "code",
   "execution_count": 3,
   "metadata": {},
   "outputs": [
    {
     "name": "stdout",
     "output_type": "stream",
     "text": [
      "5,610,928 | 19,899,968 | 2,260,047\n"
     ]
    }
   ],
   "source": [
    "criterion = MixUpSoftmaxLoss(nn.CrossEntropyLoss())\n",
    "model = get_seresnet_model(\n",
    "    arch=\"se_resnext50_32x4d\",\n",
    "    n_classes=N_CLASSES, pretrained=False).cuda()\n",
    "optimizer = WeightDecayOptimizerWrapper(\n",
    "    torch.optim.Adam(\n",
    "        [\n",
    "            {\n",
    "                'params': [p for n, p in model.named_parameters()\n",
    "                           if not any(nd in n for nd in NO_DECAY)],\n",
    "            },\n",
    "            {\n",
    "                'params': [p for n, p in model.named_parameters()\n",
    "                           if any(nd in n for nd in NO_DECAY)],\n",
    "            }\n",
    "        ],\n",
    "        weight_decay=0,\n",
    "        lr=1e-1\n",
    "    ),\n",
    "    weight_decay=[1e-1, 0],\n",
    "    change_with_lr=True\n",
    ")\n",
    "finder = LRFinder(model, optimizer, criterion)"
   ]
  },
  {
   "cell_type": "code",
   "execution_count": 4,
   "metadata": {},
   "outputs": [
    {
     "data": {
      "text/plain": [
       "402"
      ]
     },
     "execution_count": 4,
     "metadata": {},
     "output_type": "execute_result"
    }
   ],
   "source": [
    "train_dir = DATA_ROOT / 'train'\n",
    "df_train, class_map = build_dataframe_from_folder(train_dir)\n",
    "\n",
    "train_loader = make_loader(\n",
    "    32, TrainDataset, df_train, train_transform, drop_last=True, shuffle=True)\n",
    "len(train_loader)"
   ]
  },
  {
   "cell_type": "code",
   "execution_count": 5,
   "metadata": {},
   "outputs": [
    {
     "data": {
      "application/vnd.jupyter.widget-view+json": {
       "model_id": "92268f3440dc4b228193e3f5304ae985",
       "version_major": 2,
       "version_minor": 0
      },
      "text/plain": [
       "HBox(children=(IntProgress(value=0, max=402), HTML(value='')))"
      ]
     },
     "metadata": {},
     "output_type": "display_data"
    },
    {
     "name": "stdout",
     "output_type": "stream",
     "text": [
      "\n",
      "Learning rate search finished. See the graph with {finder_name}.plot()\n"
     ]
    }
   ],
   "source": [
    "finder.range_test(\n",
    "    train_loader, \n",
    "    min_lr_ratio=1e-4, \n",
    "    total_steps=len(train_loader),\n",
    "    ma_decay=0.9, stop_ratio = 10\n",
    ")"
   ]
  },
  {
   "cell_type": "code",
   "execution_count": 10,
   "metadata": {},
   "outputs": [
    {
     "data": {
      "image/png": "[encoded data removed]",
      "text/plain": [
       "<Figure size 720x288 with 1 Axes>"
      ]
     },
     "metadata": {
      "needs_background": "light"
     },
     "output_type": "display_data"
    }
   ],
   "source": [
    "finder.plot(skip_start=60, filepath=\"/tmp/tmp.png\")"
   ]
  },
  {
   "cell_type": "code",
   "execution_count": null,
   "metadata": {},
   "outputs": [],
   "source": []
  }
 ],
 "metadata": {
  "kernelspec": {
   "display_name": "Python 3",
   "language": "python",
   "name": "python3"
  },
  "language_info": {
   "codemirror_mode": {
    "name": "ipython",
    "version": 3
   },
   "file_extension": ".py",
   "mimetype": "text/x-python",
   "name": "python",
   "nbconvert_exporter": "python",
   "pygments_lexer": "ipython3",
   "version": "3.7.0"
  }
 },
 "nbformat": 4,
 "nbformat_minor": 2
}
